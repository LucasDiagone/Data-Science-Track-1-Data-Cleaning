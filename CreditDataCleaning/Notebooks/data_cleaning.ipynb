{
  "cells": [
    {
      "cell_type": "markdown",
      "metadata": {},
      "source": [
        "# Data Cleaning and Preprocessing\n",
        "This notebook handles cleaning tasks for a simulated credit dataset."
      ]
    },
    {
      "cell_type": "code",
      "execution_count": 24,
      "metadata": {},
      "outputs": [
        {
          "name": "stdout",
          "output_type": "stream",
          "text": [
            "c:\\Users\\windows\\Desktop\\Data Science\\Teoria\\GITHUB\\CreditDataCleaning\\Notebooks\n",
            "['credit_data_simulated.csv']\n"
          ]
        }
      ],
      "source": [
        "# Step 1: Import libraries\n",
        "import pandas as pd\n",
        "import numpy as np\n",
        "import seaborn as sns\n",
        "import matplotlib.pyplot as plt\n",
        "import seaborn as sns\n",
        "import os\n",
        "print(os.getcwd())\n",
        "print(os.listdir('../Data'))"
      ]
    },
    {
      "cell_type": "code",
      "execution_count": 25,
      "metadata": {},
      "outputs": [
        {
          "data": {
            "text/html": [
              "<div>\n",
              "<style scoped>\n",
              "    .dataframe tbody tr th:only-of-type {\n",
              "        vertical-align: middle;\n",
              "    }\n",
              "\n",
              "    .dataframe tbody tr th {\n",
              "        vertical-align: top;\n",
              "    }\n",
              "\n",
              "    .dataframe thead th {\n",
              "        text-align: right;\n",
              "    }\n",
              "</style>\n",
              "<table border=\"1\" class=\"dataframe\">\n",
              "  <thead>\n",
              "    <tr style=\"text-align: right;\">\n",
              "      <th></th>\n",
              "      <th>id</th>\n",
              "      <th>name</th>\n",
              "      <th>age</th>\n",
              "      <th>gender</th>\n",
              "      <th>salary</th>\n",
              "      <th>state</th>\n",
              "      <th>credit_score</th>\n",
              "      <th>estade</th>\n",
              "    </tr>\n",
              "  </thead>\n",
              "  <tbody>\n",
              "    <tr>\n",
              "      <th>0</th>\n",
              "      <td>1</td>\n",
              "      <td>Ana Silva</td>\n",
              "      <td>34</td>\n",
              "      <td>F</td>\n",
              "      <td>3500.0</td>\n",
              "      <td>SP</td>\n",
              "      <td>700</td>\n",
              "      <td>SP</td>\n",
              "    </tr>\n",
              "    <tr>\n",
              "      <th>1</th>\n",
              "      <td>2</td>\n",
              "      <td>Carlos Souza</td>\n",
              "      <td>45</td>\n",
              "      <td>Masc</td>\n",
              "      <td>4200.0</td>\n",
              "      <td>RJ</td>\n",
              "      <td>680</td>\n",
              "      <td>RJ</td>\n",
              "    </tr>\n",
              "    <tr>\n",
              "      <th>2</th>\n",
              "      <td>3</td>\n",
              "      <td>Maria Santos</td>\n",
              "      <td>23</td>\n",
              "      <td>NaN</td>\n",
              "      <td>2700.0</td>\n",
              "      <td>MG</td>\n",
              "      <td>720</td>\n",
              "      <td>MG</td>\n",
              "    </tr>\n",
              "    <tr>\n",
              "      <th>3</th>\n",
              "      <td>4</td>\n",
              "      <td>João Pereira</td>\n",
              "      <td>52</td>\n",
              "      <td>Masc</td>\n",
              "      <td>5000.0</td>\n",
              "      <td>SP</td>\n",
              "      <td>690</td>\n",
              "      <td>SP</td>\n",
              "    </tr>\n",
              "    <tr>\n",
              "      <th>4</th>\n",
              "      <td>5</td>\n",
              "      <td>Paula Costa</td>\n",
              "      <td>29</td>\n",
              "      <td>F</td>\n",
              "      <td>3100.0</td>\n",
              "      <td>RS</td>\n",
              "      <td>710</td>\n",
              "      <td>RS</td>\n",
              "    </tr>\n",
              "  </tbody>\n",
              "</table>\n",
              "</div>"
            ],
            "text/plain": [
              "   id          name  age gender  salary state  credit_score estade\n",
              "0   1     Ana Silva   34      F  3500.0    SP           700     SP\n",
              "1   2  Carlos Souza   45   Masc  4200.0    RJ           680     RJ\n",
              "2   3  Maria Santos   23    NaN  2700.0    MG           720     MG\n",
              "3   4  João Pereira   52   Masc  5000.0    SP           690     SP\n",
              "4   5   Paula Costa   29      F  3100.0    RS           710     RS"
            ]
          },
          "execution_count": 25,
          "metadata": {},
          "output_type": "execute_result"
        }
      ],
      "source": [
        "# Step 2: Load the dataset\n",
        "dataframe = pd.read_csv('../Data/credit_data_simulated.csv')\n",
        "dataframe.head()"
      ]
    },
    {
      "cell_type": "markdown",
      "metadata": {},
      "source": [
        "## Step 3: Treat Categorical Columns\n",
        "- Rename incorrectly named columns (e.g., \"estade\" to \"state\")\n",
        "- Standardize inconsistent category values (e.g., gender labels like \"F\", \"Fem\" to \"Feminino\")\n",
        "- Remove missing values (NaN) in categorical columns\n",
        "- Check unique values to confirm cleaning"
      ]
    },
    {
      "cell_type": "code",
      "execution_count": 26,
      "metadata": {},
      "outputs": [
        {
          "name": "stdout",
          "output_type": "stream",
          "text": [
            "Index(['id', 'name', 'age', 'gender', 'salary', 'state', 'credit_score',\n",
            "       'state'],\n",
            "      dtype='object')\n"
          ]
        }
      ],
      "source": [
        "## Step 3.1: Rename Incorrect Column\n",
        "dataframe = dataframe.rename(columns={'estade': 'state'})\n",
        "dataframe.head()\n",
        "# Remove duplicate columns\n",
        "print(dataframe.columns)\n",
        "dataframe = dataframe.loc[:, ~dataframe.columns.duplicated()]"
      ]
    },
    {
      "cell_type": "code",
      "execution_count": 27,
      "metadata": {},
      "outputs": [
        {
          "name": "stdout",
          "output_type": "stream",
          "text": [
            "gender\n",
            "Feminino     4\n",
            "Masculino    5\n",
            "dtype: int64\n"
          ]
        }
      ],
      "source": [
        "## Step 3.2: Standardize the Gender Column\n",
        "dataframe['gender'] = dataframe['gender'].replace({\n",
        "    'F': 'Feminino',\n",
        "    'f': 'Feminino',\n",
        "    'Fem': 'Feminino',\n",
        "    'fem': 'Feminino',\n",
        "    'Masculino': 'Masculino',\n",
        "    'Masc': 'Masculino',\n",
        "    'masc': 'Masculino',\n",
        "    'm': 'Masculino',\n",
        "    'M': 'Masculino'\n",
        "})\n",
        "# Visualization of Column Values\n",
        "print(dataframe.groupby('gender').size())"
      ]
    },
    {
      "cell_type": "code",
      "execution_count": 28,
      "metadata": {},
      "outputs": [
        {
          "name": "stdout",
          "output_type": "stream",
          "text": [
            "gender\n",
            "Feminino     4\n",
            "Masculino    6\n",
            "dtype: int64\n"
          ]
        },
        {
          "name": "stderr",
          "output_type": "stream",
          "text": [
            "C:\\Users\\windows\\AppData\\Local\\Temp\\ipykernel_22572\\4067145842.py:3: FutureWarning: A value is trying to be set on a copy of a DataFrame or Series through chained assignment using an inplace method.\n",
            "The behavior will change in pandas 3.0. This inplace method will never work because the intermediate object on which we are setting values always behaves as a copy.\n",
            "\n",
            "For example, when doing 'df[col].method(value, inplace=True)', try using 'df.method({col: value}, inplace=True)' or df[col] = df[col].method(value) instead, to perform the operation inplace on the original object.\n",
            "\n",
            "\n",
            "  dataframe['gender'].fillna('Masculino', inplace=True)\n"
          ]
        }
      ],
      "source": [
        "## Step 3.3: Remove Missing Values (NaN) in Categorical Columns\n",
        "#We replaced the missing values (NaN) in the 'gender' column with the mode, i.e., the most frequent gender value in the dataset, which is \"Masculino\".\n",
        "dataframe['gender'].fillna('Masculino', inplace=True)\n",
        "print(dataframe.groupby('gender').size())"
      ]
    },
    {
      "cell_type": "markdown",
      "metadata": {},
      "source": [
        "# Step 4: Numerical Data Treatment\n",
        "\n",
        "- Invalid ages were replaced with the median to correct unrealistic values\n",
        "- Detect and Adjust Outliers in Salary"
      ]
    },
    {
      "cell_type": "code",
      "execution_count": 29,
      "metadata": {},
      "outputs": [
        {
          "name": "stderr",
          "output_type": "stream",
          "text": [
            "C:\\Users\\windows\\AppData\\Local\\Temp\\ipykernel_22572\\3688968106.py:10: FutureWarning: Setting an item of incompatible dtype is deprecated and will raise an error in a future version of pandas. Value '36.125' has dtype incompatible with int64, please explicitly cast to a compatible dtype first.\n",
            "  dataframe.loc[~dataframe['age'].between(0, 100), 'age'] = meanage\n"
          ]
        },
        {
          "data": {
            "text/html": [
              "<div>\n",
              "<style scoped>\n",
              "    .dataframe tbody tr th:only-of-type {\n",
              "        vertical-align: middle;\n",
              "    }\n",
              "\n",
              "    .dataframe tbody tr th {\n",
              "        vertical-align: top;\n",
              "    }\n",
              "\n",
              "    .dataframe thead th {\n",
              "        text-align: right;\n",
              "    }\n",
              "</style>\n",
              "<table border=\"1\" class=\"dataframe\">\n",
              "  <thead>\n",
              "    <tr style=\"text-align: right;\">\n",
              "      <th></th>\n",
              "      <th>id</th>\n",
              "      <th>name</th>\n",
              "      <th>age</th>\n",
              "      <th>gender</th>\n",
              "      <th>salary</th>\n",
              "      <th>state</th>\n",
              "      <th>credit_score</th>\n",
              "    </tr>\n",
              "  </thead>\n",
              "  <tbody>\n",
              "  </tbody>\n",
              "</table>\n",
              "</div>"
            ],
            "text/plain": [
              "Empty DataFrame\n",
              "Columns: [id, name, age, gender, salary, state, credit_score]\n",
              "Index: []"
            ]
          },
          "execution_count": 29,
          "metadata": {},
          "output_type": "execute_result"
        }
      ],
      "source": [
        "## Step 4.1: Correct Invalid Ages\n",
        "# Identify ‘Ages’ outside the domain\n",
        "dataframe['age'].describe()\n",
        "dataframe.query('age < 0 or age > 100')\n",
        "\n",
        "## Step 4.2: Calculate average only with valid ages\n",
        "meanage = dataframe.query('age >= 0 and age <= 100')['age'].mean()\n",
        "\n",
        "## Step 4.3: Replace invalid ages with average\n",
        "dataframe.loc[~dataframe['age'].between(0, 100), 'age'] = meanage\n",
        "# Check\n",
        "dataframe.query('age < 0 or age > 100')"
      ]
    },
    {
      "cell_type": "code",
      "execution_count": null,
      "metadata": {},
      "outputs": [
        {
          "data": {
            "image/png": "[encoded data removed]",
            "text/plain": [
              "<Figure size 640x480 with 1 Axes>"
            ]
          },
          "metadata": {},
          "output_type": "display_data"
        }
      ],
      "source": [
        "## Step 4.4: Visualize Salary Distribution\n",
        "# Show summary descriptive statistics for the 'salary' column.\n",
        "dataframe['salary'].describe()\n",
        "\n",
        "# Plots a histogram with KDE to visualize the salary distribution.\n",
        "sns.set_style('whitegrid')\n",
        "sns.histplot(dataframe['salary'], bins=30, kde=True, color='skyblue')\n",
        "plt.title(\"Salary Distribution\")\n",
        "plt.xlabel(\"Salary\")\n",
        "plt.ylabel(\"Frequency\")\n",
        "plt.show()"
      ]
    },
    {
      "cell_type": "code",
      "execution_count": null,
      "metadata": {},
      "outputs": [
        {
          "data": {
            "text/plain": [
              "count        10.000000\n",
              "mean     104119.900000\n",
              "std      314787.177531\n",
              "min        2700.000000\n",
              "25%        3325.000000\n",
              "50%        3850.000000\n",
              "75%        5750.000000\n",
              "max      999999.000000\n",
              "Name: salary, dtype: float64"
            ]
          },
          "execution_count": 36,
          "metadata": {},
          "output_type": "execute_result"
        }
      ],
      "source": [
        "## Step 4.5: Analyze Salary Data Quality Check\n",
        "\n",
        "# Calculate the median salary excluding high outliers  \n",
        "median_salary = dataframe.loc[dataframe['salary'] < 10000, 'salary'].median()\n",
        "# Replace negative salaries with the calculated median\n",
        "dataframe.loc[dataframe['salary'] < 0, 'salary'] = median_salary\n",
        "# Check\n",
        "dataframe['salary'].describe()\n",
        "\n"
      ]
    },
    {
      "cell_type": "markdown",
      "metadata": {},
      "source": [
        "## Step 4.6: Correct Salary Typos\n",
        "- In this final step, we identify and correct salaries that are unrealistically high, assuming they are data entry errors.\n",
        "Salaries above 1,000,000 are replaced by the median of the valid salary values.\n",
        "\n",
        "- If these high salaries are confirmed as real, do not modify them to avoid biasing the analysis.\n",
        "We also create a flag to mark which values were corrected for future reference."
      ]
    },
    {
      "cell_type": "code",
      "execution_count": null,
      "metadata": {},
      "outputs": [
        {
          "name": "stdout",
          "output_type": "stream",
          "text": [
            "   id           name  salary\n",
            "0   1      Ana Silva  4200.0\n",
            "1   2   Carlos Souza  4200.0\n",
            "5   6  Luiz Oliveira  4200.0\n"
          ]
        }
      ],
      "source": [
        "# Fix salary value 999999.0 (assumed to be a typo)\n",
        "# Calculate the median of valid salaries (under 100,000)\n",
        "mediana = dataframe.loc[dataframe['salary'] < 100000, 'salary'].median()\n",
        "\n",
        "# Replace the incorrect salary with the median\n",
        "dataframe.loc[dataframe['salary'] == 999999.0, 'salary'] = mediana\n",
        "\n",
        "# Create a flag to indicate which record was corrected\n",
        "dataframe['salary_corrected'] = dataframe['salary'] == mediana\n",
        "\n",
        "# Add a flag column indicating corrected salary entries\n",
        "print(dataframe[dataframe['salary_corrected']][['id', 'name', 'salary']])\n"
      ]
    },
    {
      "cell_type": "markdown",
      "metadata": {},
      "source": [
        "## Step 4.6: Correct Salary Typo\n",
        "\n",
        "In this step, we identified a salary value of `999999.0`, which is most likely a data entry mistake (e.g., a misplaced decimal or extra digits).  \n",
        "To correct this, we replaced it with the median of valid salaries under 100,000.\n",
        "\n",
        "> ⚠️ **Important:**  \n",
        "> If this value represents a real salary (e.g., a high-paying executive role), it should **not be modified**, as removing or altering valid high values can introduce bias into the analysis and distort real-world patterns.\n",
        "\n",
        "We also created a `salary_corrected` flag to indicate which record was modified, allowing traceability and transparency in the data cleaning process."
      ]
    }
  ],
  "metadata": {
    "kernelspec": {
      "display_name": ".venv",
      "language": "python",
      "name": "python3"
    },
    "language_info": {
      "codemirror_mode": {
        "name": "ipython",
        "version": 3
      },
      "file_extension": ".py",
      "mimetype": "text/x-python",
      "name": "python",
      "nbconvert_exporter": "python",
      "pygments_lexer": "ipython3",
      "version": "3.13.5"
    }
  },
  "nbformat": 4,
  "nbformat_minor": 2
}
